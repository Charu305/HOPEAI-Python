{
 "cells": [
  {
   "cell_type": "code",
   "execution_count": 7,
   "id": "50d784ac-1025-4cf5-be22-4465e9a7f55e",
   "metadata": {},
   "outputs": [
    {
     "name": "stdout",
     "output_type": "stream",
     "text": [
      "HOPEAI\n"
     ]
    }
   ],
   "source": [
    "print(\"HOPEAI\")"
   ]
  },
  {
   "cell_type": "code",
   "execution_count": 9,
   "id": "1669a3ca-17c2-48b5-b844-b128881c91a0",
   "metadata": {},
   "outputs": [
    {
     "name": "stdin",
     "output_type": "stream",
     "text": [
      "Enter Your institute name? : HOPE AI\n"
     ]
    }
   ],
   "source": [
    "Institute = input(\"Enter Your institute name? :\")"
   ]
  },
  {
   "cell_type": "code",
   "execution_count": 13,
   "id": "0987e02e-7c18-4a99-b03e-a808d5e32fd7",
   "metadata": {},
   "outputs": [
    {
     "name": "stdin",
     "output_type": "stream",
     "text": [
      "Enter Your name: Raj\n",
      "Enter Your age: 15\n",
      "Enter Your school name: Guru School\n",
      "Enter Your drgree: B.E CSE\n"
     ]
    }
   ],
   "source": [
    "Name = input(\"Enter Your name:\")\n",
    "Age = input(\"Enter Your age:\")\n",
    "School_Name = input(\"Enter Your school name:\")\n",
    "Degree = input(\"Enter Your drgree:\")"
   ]
  },
  {
   "cell_type": "code",
   "execution_count": 15,
   "id": "f24a854f-1d75-4f3e-94b8-f2883c250586",
   "metadata": {},
   "outputs": [
    {
     "name": "stdout",
     "output_type": "stream",
     "text": [
      "a= 43\n",
      "b= 34\n",
      "add = 77\n"
     ]
    }
   ],
   "source": [
    "a = 43\n",
    "print(\"a=\",a)\n",
    "b = 34\n",
    "print(\"b=\",b)\n",
    "add = a+b\n",
    "print(\"add =\",add)"
   ]
  },
  {
   "cell_type": "code",
   "execution_count": 17,
   "id": "69ca8635-3ca5-4186-85e0-4e74670a35c8",
   "metadata": {},
   "outputs": [
    {
     "name": "stdout",
     "output_type": "stream",
     "text": [
      "a= 43\n",
      "b= 34\n",
      "Sub = 9\n"
     ]
    }
   ],
   "source": [
    "a = 43\n",
    "print(\"a=\",a)\n",
    "b = 34\n",
    "print(\"b=\",b)\n",
    "Sub = a-b\n",
    "print(\"Sub =\",Sub)"
   ]
  },
  {
   "cell_type": "code",
   "execution_count": 19,
   "id": "6c817074-d6dc-4f61-9b47-a7fb70df74ee",
   "metadata": {},
   "outputs": [
    {
     "name": "stdout",
     "output_type": "stream",
     "text": [
      "a= 63\n",
      "b= 97\n",
      "Mul = 6111\n"
     ]
    }
   ],
   "source": [
    "a = 63\n",
    "print(\"a=\",a)\n",
    "b = 97\n",
    "print(\"b=\",b)\n",
    "Mul = a*b\n",
    "print(\"Mul =\",Mul)"
   ]
  },
  {
   "cell_type": "code",
   "execution_count": 25,
   "id": "b48c2eb6-1c40-4eff-b5e1-c3d15b51741b",
   "metadata": {},
   "outputs": [
    {
     "name": "stdout",
     "output_type": "stream",
     "text": [
      "a= 76\n",
      "b= 31\n",
      "Float Div = 2.4516129032258065\n"
     ]
    }
   ],
   "source": [
    "a = 76\n",
    "print(\"a=\",a)\n",
    "b = 31\n",
    "print(\"b=\",b)\n",
    "FloatDiv = a/b\n",
    "print(\"Float Div =\",FloatDiv)"
   ]
  },
  {
   "cell_type": "code",
   "execution_count": 27,
   "id": "545979d2-9c3e-4cc6-beb5-cea6b7263f44",
   "metadata": {},
   "outputs": [
    {
     "name": "stdout",
     "output_type": "stream",
     "text": [
      "a= 76\n",
      "b= 31\n",
      "Float Div = 2\n"
     ]
    }
   ],
   "source": [
    "a = 76\n",
    "print(\"a=\",a)\n",
    "b = 31\n",
    "print(\"b=\",b)\n",
    "FloatDiv = a//b\n",
    "print(\"Float Div =\",FloatDiv)"
   ]
  },
  {
   "cell_type": "code",
   "execution_count": 29,
   "id": "0d62d9ab-e7fc-4754-b302-42f31f6d0792",
   "metadata": {},
   "outputs": [
    {
     "name": "stdout",
     "output_type": "stream",
     "text": [
      "a= 76\n",
      "b= 31\n",
      "Modulo = 14\n"
     ]
    }
   ],
   "source": [
    "a = 76\n",
    "print(\"a=\",a)\n",
    "b = 31\n",
    "print(\"b=\",b)\n",
    "Modulo = a%b\n",
    "print(\"Modulo =\",Modulo)"
   ]
  },
  {
   "cell_type": "code",
   "execution_count": 31,
   "id": "aa179435-4e56-47c8-89e9-16398e66e7e0",
   "metadata": {},
   "outputs": [
    {
     "name": "stdout",
     "output_type": "stream",
     "text": [
      "a= 4\n",
      "b= 4\n",
      "Power = 256\n"
     ]
    }
   ],
   "source": [
    "a = 4\n",
    "print(\"a=\",a)\n",
    "b = 4\n",
    "print(\"b=\",b)\n",
    "Power = a**b\n",
    "print(\"Power =\",Power)"
   ]
  },
  {
   "cell_type": "code",
   "execution_count": null,
   "id": "3edc8595-c7dc-4aa4-b3da-284e3ef486a7",
   "metadata": {},
   "outputs": [],
   "source": []
  }
 ],
 "metadata": {
  "kernelspec": {
   "display_name": "Python 3 (ipykernel)",
   "language": "python",
   "name": "python3"
  },
  "language_info": {
   "codemirror_mode": {
    "name": "ipython",
    "version": 3
   },
   "file_extension": ".py",
   "mimetype": "text/x-python",
   "name": "python",
   "nbconvert_exporter": "python",
   "pygments_lexer": "ipython3",
   "version": "3.12.4"
  }
 },
 "nbformat": 4,
 "nbformat_minor": 5
}

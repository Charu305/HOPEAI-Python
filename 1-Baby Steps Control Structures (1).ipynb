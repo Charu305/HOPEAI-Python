{
 "cells": [
  {
   "cell_type": "code",
   "execution_count": 1,
   "id": "14d245fe-edb7-4a9b-a0a7-a847afd4b314",
   "metadata": {},
   "outputs": [
    {
     "name": "stdout",
     "output_type": "stream",
     "text": [
      "Welcome to Assignment-1\n"
     ]
    }
   ],
   "source": [
    "print(\"Welcome to Assignment-1\")"
   ]
  },
  {
   "cell_type": "code",
   "execution_count": 3,
   "id": "3cea4bff-becc-44a6-a3ce-f29915148ad3",
   "metadata": {},
   "outputs": [
    {
     "name": "stdout",
     "output_type": "stream",
     "text": [
      "Num1: 10\n",
      "Num2: 30\n",
      "Add: 40\n"
     ]
    }
   ],
   "source": [
    "Num1= 10\n",
    "print(\"Num1:\",Num1)\n",
    "Num2= 30\n",
    "print(\"Num2:\",Num2)\n",
    "Add = Num1+Num2\n",
    "print(\"Add:\",Add)"
   ]
  },
  {
   "cell_type": "code",
   "execution_count": 3,
   "id": "ba87ab0c-5056-411a-9585-59c333e8d02c",
   "metadata": {},
   "outputs": [
    {
     "name": "stdin",
     "output_type": "stream",
     "text": [
      "Enter the BMI Index: 56\n"
     ]
    }
   ],
   "source": [
    "#Body Mass Index\n",
    "\n",
    "bmi= float(input(\"Enter the BMI Index:\"))"
   ]
  },
  {
   "cell_type": "code",
   "execution_count": 5,
   "id": "28307a22-fccf-4eb2-a155-c23a7bd57c93",
   "metadata": {},
   "outputs": [
    {
     "name": "stdout",
     "output_type": "stream",
     "text": [
      "Very Overweight\n"
     ]
    }
   ],
   "source": [
    "if (18.5>bmi):\n",
    "    print(\"Underweight\")\n",
    "elif (18.5<=bmi and bmi<=24.9):\n",
    "    print(\"Normal\")\n",
    "elif (25.0<=bmi and bmi<=29.9):\n",
    "    print (\"Overweight\")\n",
    "else:\n",
    "    print (\"Very Overweight\")"
   ]
  },
  {
   "cell_type": "code",
   "execution_count": null,
   "id": "e79598a8-9d01-450f-b4c1-bddf25ef1b05",
   "metadata": {},
   "outputs": [],
   "source": []
  }
 ],
 "metadata": {
  "kernelspec": {
   "display_name": "Python 3 (ipykernel)",
   "language": "python",
   "name": "python3"
  },
  "language_info": {
   "codemirror_mode": {
    "name": "ipython",
    "version": 3
   },
   "file_extension": ".py",
   "mimetype": "text/x-python",
   "name": "python",
   "nbconvert_exporter": "python",
   "pygments_lexer": "ipython3",
   "version": "3.12.4"
  }
 },
 "nbformat": 4,
 "nbformat_minor": 5
}

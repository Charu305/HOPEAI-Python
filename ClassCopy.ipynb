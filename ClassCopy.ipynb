{
 "cells": [
  {
   "cell_type": "code",
   "execution_count": 9,
   "id": "3b77a456-c466-41bb-8c9a-c737b919b286",
   "metadata": {},
   "outputs": [],
   "source": [
    "from Multifunction import Multifunction"
   ]
  },
  {
   "cell_type": "code",
   "execution_count": 17,
   "id": "4ac1baf9-fc1e-426f-9f36-c73efa1937a0",
   "metadata": {},
   "outputs": [
    {
     "name": "stdin",
     "output_type": "stream",
     "text": [
      "Subject1= 97\n",
      "Subject2= 86\n",
      "Subject3= 95\n",
      "Subject4= 95\n",
      "Subject5= 93\n"
     ]
    },
    {
     "name": "stdout",
     "output_type": "stream",
     "text": [
      "Total : 466\n",
      "Percentage : 93.2\n"
     ]
    }
   ],
   "source": [
    "Multifunction.percentage()"
   ]
  },
  {
   "cell_type": "code",
   "execution_count": 19,
   "id": "b96556d2-dbe2-4d6a-9ce2-49b3ee3fa57a",
   "metadata": {},
   "outputs": [
    {
     "name": "stdout",
     "output_type": "stream",
     "text": [
      "Sub-fields in AI are:\n",
      "Machine Learning\n",
      "Neural Networks\n",
      "Vision\n",
      "Robotics\n",
      "Speech Processing\n",
      "Natural Language Processing\n"
     ]
    }
   ],
   "source": [
    "Multifunction.Subfields()"
   ]
  },
  {
   "cell_type": "code",
   "execution_count": 21,
   "id": "3fbb12b5-125d-41b3-bcc2-2ba7f83149da",
   "metadata": {},
   "outputs": [
    {
     "name": "stdin",
     "output_type": "stream",
     "text": [
      "Enter a number: 52452\n"
     ]
    },
    {
     "name": "stdout",
     "output_type": "stream",
     "text": [
      "52452 is Even number\n"
     ]
    },
    {
     "data": {
      "text/plain": [
       "(52452, 'is Even number')"
      ]
     },
     "execution_count": 21,
     "metadata": {},
     "output_type": "execute_result"
    }
   ],
   "source": [
    "Multifunction.OddEven()"
   ]
  },
  {
   "cell_type": "code",
   "execution_count": 23,
   "id": "ed31bf62-a6db-4290-815b-06dc29b07ae6",
   "metadata": {},
   "outputs": [
    {
     "name": "stdin",
     "output_type": "stream",
     "text": [
      "Your Gender Female\n",
      "Your Age 20\n"
     ]
    },
    {
     "name": "stdout",
     "output_type": "stream",
     "text": [
      "Eligible\n"
     ]
    },
    {
     "data": {
      "text/plain": [
       "'Eligible'"
      ]
     },
     "execution_count": 23,
     "metadata": {},
     "output_type": "execute_result"
    }
   ],
   "source": [
    "Multifunction.Elegible()"
   ]
  },
  {
   "cell_type": "code",
   "execution_count": 35,
   "id": "8e5ed20d-fd41-4ca0-a03a-acd867b8eb43",
   "metadata": {},
   "outputs": [
    {
     "ename": "AttributeError",
     "evalue": "'Multifunction' object has no attribute 'triangle'",
     "output_type": "error",
     "traceback": [
      "\u001b[1;31m---------------------------------------------------------------------------\u001b[0m",
      "\u001b[1;31mAttributeError\u001b[0m                            Traceback (most recent call last)",
      "Cell \u001b[1;32mIn[35], line 2\u001b[0m\n\u001b[0;32m      1\u001b[0m obj \u001b[38;5;241m=\u001b[39m Multifunction()\n\u001b[1;32m----> 2\u001b[0m obj\u001b[38;5;241m.\u001b[39mtriangle()\n",
      "\u001b[1;31mAttributeError\u001b[0m: 'Multifunction' object has no attribute 'triangle'"
     ]
    }
   ],
   "source": [
    "obj = Multifunction()\n",
    "obj.triangle()"
   ]
  },
  {
   "cell_type": "code",
   "execution_count": null,
   "id": "4a5a36f5-f770-4be6-87f9-3c3acca20305",
   "metadata": {},
   "outputs": [],
   "source": []
  }
 ],
 "metadata": {
  "kernelspec": {
   "display_name": "Python 3 (ipykernel)",
   "language": "python",
   "name": "python3"
  },
  "language_info": {
   "codemirror_mode": {
    "name": "ipython",
    "version": 3
   },
   "file_extension": ".py",
   "mimetype": "text/x-python",
   "name": "python",
   "nbconvert_exporter": "python",
   "pygments_lexer": "ipython3",
   "version": "3.12.4"
  }
 },
 "nbformat": 4,
 "nbformat_minor": 5
}

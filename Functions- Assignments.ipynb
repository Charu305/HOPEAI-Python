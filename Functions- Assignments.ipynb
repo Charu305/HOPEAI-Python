{
 "cells": [
  {
   "cell_type": "code",
   "execution_count": 21,
   "id": "c48c3b2d-8f3e-4601-bdbe-57fcecae17f0",
   "metadata": {},
   "outputs": [],
   "source": [
    "list= [\"Machine Learning\",\"Neural Networks\",\"Vision\",\"Robotics\",\"Speech Processing\",\"Natural Language Processing\"]"
   ]
  },
  {
   "cell_type": "code",
   "execution_count": 39,
   "id": "bc573df8-8929-4313-8744-dab8a7536911",
   "metadata": {},
   "outputs": [],
   "source": [
    "def Subfields():\n",
    "    print(\"Sub-fields in AI are:\")\n",
    "    for i in list:\n",
    "        print (i)"
   ]
  },
  {
   "cell_type": "code",
   "execution_count": 41,
   "id": "940b7d58-6e3d-408b-930c-40e780d4fb2f",
   "metadata": {},
   "outputs": [
    {
     "name": "stdout",
     "output_type": "stream",
     "text": [
      "Sub-fields in AI are:\n",
      "Machine Learning\n",
      "Neural Networks\n",
      "Vision\n",
      "Robotics\n",
      "Speech Processing\n",
      "Natural Language Processing\n"
     ]
    }
   ],
   "source": [
    "Subfields()"
   ]
  },
  {
   "cell_type": "code",
   "execution_count": 47,
   "id": "dbf97e47-4413-46c6-bd7a-3d52e16a1d6b",
   "metadata": {},
   "outputs": [],
   "source": [
    "def OddEven():\n",
    "    num = int(input(\"Enter a number:\"))\n",
    "    if ((num%2)==0):\n",
    "        print(num,\"is Even number\")\n",
    "        message= (num,\"is Even number\")\n",
    "    else:\n",
    "        print(num,\"is Odd number\")\n",
    "        message= (num,\"is Odd number\")\n",
    "    return message"
   ]
  },
  {
   "cell_type": "code",
   "execution_count": 49,
   "id": "49332cb5-d57d-4378-8a53-d9ba9c257e32",
   "metadata": {},
   "outputs": [
    {
     "name": "stdin",
     "output_type": "stream",
     "text": [
      "Enter a number: 52452\n"
     ]
    },
    {
     "name": "stdout",
     "output_type": "stream",
     "text": [
      "52452 is Even number\n"
     ]
    }
   ],
   "source": [
    "message=OddEven()"
   ]
  },
  {
   "cell_type": "code",
   "execution_count": 69,
   "id": "fd93ff37-d3fc-411a-a3d5-e4ff8c9f5cfb",
   "metadata": {},
   "outputs": [],
   "source": [
    "def Elegible():\n",
    "    Gender = input(\"Your Gender\")\n",
    "    Age = int(input(\"Your Age\"))\n",
    "    if (Gender == \"Male\" and Age>=21):\n",
    "        print (\"Eligible\")\n",
    "        agemessage = (\"Eligible\")\n",
    "    elif (Gender == \"Male\" and Age<21):\n",
    "        print (\"Not Eligible\")\n",
    "        agemessage = (\"Not Eligible\")\n",
    "    elif (Gender == \"Female\" and Age>=18):\n",
    "        print (\"Eligible\")\n",
    "        agemessage = (\"Eligible\")\n",
    "    else :\n",
    "        print (\"Not Eligible\")\n",
    "        agemessage = (\"Not Eligible\")\n",
    "    return agemessage"
   ]
  },
  {
   "cell_type": "code",
   "execution_count": 73,
   "id": "471c3e7c-8055-4703-a7bd-717ef7a74149",
   "metadata": {},
   "outputs": [
    {
     "name": "stdin",
     "output_type": "stream",
     "text": [
      "Your Gender Male\n",
      "Your Age 20\n"
     ]
    },
    {
     "name": "stdout",
     "output_type": "stream",
     "text": [
      "Not Eligible\n"
     ]
    }
   ],
   "source": [
    "agemessage= Elegible()"
   ]
  },
  {
   "cell_type": "code",
   "execution_count": 85,
   "id": "abca20d9-f6f3-4f32-8da4-d19272237055",
   "metadata": {},
   "outputs": [],
   "source": [
    "def percentage():\n",
    "    Sub1 = int(input(\"Subject1=\"))\n",
    "    Sub2 = int(input(\"Subject2=\"))\n",
    "    Sub3 = int(input(\"Subject3=\"))\n",
    "    Sub4 = int(input(\"Subject4=\"))\n",
    "    Sub5 = int(input(\"Subject5=\"))\n",
    "    Total =(Sub1+Sub2+Sub3+Sub4+Sub5)\n",
    "    print (\"Total :\",Total)\n",
    "    submessage=(\"Total :\",Total)\n",
    "    Percentage = Total/5\n",
    "    print (\"Percentage :\",Percentage)\n",
    "    submessage=(\"Percentage :\",Percentage)"
   ]
  },
  {
   "cell_type": "code",
   "execution_count": 87,
   "id": "a479dc65-b434-4c4e-8844-0cffd207e5c6",
   "metadata": {},
   "outputs": [
    {
     "name": "stdin",
     "output_type": "stream",
     "text": [
      "Subject1= 98\n",
      "Subject2= 87\n",
      "Subject3= 95\n",
      "Subject4= 95\n",
      "Subject5= 93\n"
     ]
    },
    {
     "name": "stdout",
     "output_type": "stream",
     "text": [
      "Total : 468\n",
      "Percentage : 93.6\n"
     ]
    }
   ],
   "source": [
    "submessage = percentage()"
   ]
  },
  {
   "cell_type": "code",
   "execution_count": 107,
   "id": "165c934c-b1f1-49ae-b670-3139718d92e0",
   "metadata": {},
   "outputs": [],
   "source": [
    "def triangle():\n",
    "    height = 32\n",
    "    Breadth = 34\n",
    "    Area_of_Triangle =(height*Breadth)/2\n",
    "    print(\"Height:\",height)\n",
    "    print (\"Breadth:\",Breadth)\n",
    "    print(\"Area formula:(Height*Breadth)/2\")\n",
    "    print (\"Area of Triangle\",Area_of_Triangle)\n",
    "    print() # for a blank space\n",
    "    height1 = 2\n",
    "    height2 = 4\n",
    "    Breadth = 4\n",
    "    Perimeter_of_Triangle =height1+height2+Breadth\n",
    "    print(\"Height1:\",height1)\n",
    "    print(\"Height2:\",height2)\n",
    "    print(\"Breadth:\",Breadth)\n",
    "    print(\"Perimeter formula:height1+height2+Breadth\")\n",
    "    print(\"Perimeter of Triangle\",Perimeter_of_Triangle)\n",
    "    "
   ]
  },
  {
   "cell_type": "code",
   "execution_count": 109,
   "id": "8fdec3ae-2558-4da6-b370-81d9b654fd11",
   "metadata": {},
   "outputs": [
    {
     "name": "stdout",
     "output_type": "stream",
     "text": [
      "Height: 32\n",
      "Breadth: 34\n",
      "Area formula:(Height*Breadth)/2\n",
      "Area of Triangle 544.0\n",
      "\n",
      "Height1: 2\n",
      "Height2: 4\n",
      "Breadth: 4\n",
      "Perimeter formula:height1+height2+Breadth\n",
      "Perimeter of Triangle 10\n"
     ]
    }
   ],
   "source": [
    "triangle()"
   ]
  },
  {
   "cell_type": "code",
   "execution_count": null,
   "id": "7a76e2c6-590a-4a1a-9003-d93352639969",
   "metadata": {},
   "outputs": [],
   "source": []
  }
 ],
 "metadata": {
  "kernelspec": {
   "display_name": "Python 3 (ipykernel)",
   "language": "python",
   "name": "python3"
  },
  "language_info": {
   "codemirror_mode": {
    "name": "ipython",
    "version": 3
   },
   "file_extension": ".py",
   "mimetype": "text/x-python",
   "name": "python",
   "nbconvert_exporter": "python",
   "pygments_lexer": "ipython3",
   "version": "3.12.4"
  }
 },
 "nbformat": 4,
 "nbformat_minor": 5
}

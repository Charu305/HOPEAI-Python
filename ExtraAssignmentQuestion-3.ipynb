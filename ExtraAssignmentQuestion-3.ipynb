{
 "cells": [
  {
   "cell_type": "code",
   "execution_count": 1,
   "id": "3e1c423b-9ab8-492d-a61a-e1158adde867",
   "metadata": {},
   "outputs": [
    {
     "name": "stdout",
     "output_type": "stream",
     "text": [
      "value:  10\n",
      "Correct\n"
     ]
    }
   ],
   "source": [
    "value = 10\n",
    "print (\"value: \",value)\n",
    "if (value == 10):\n",
    "    print (\"Correct\")"
   ]
  },
  {
   "cell_type": "code",
   "execution_count": 5,
   "id": "a299c317-8bd1-420b-b3f3-86e47f606fad",
   "metadata": {},
   "outputs": [
    {
     "name": "stdin",
     "output_type": "stream",
     "text": [
      "Enter the password: HOPE@123\n"
     ]
    },
    {
     "name": "stdout",
     "output_type": "stream",
     "text": [
      "Your Password is correct\n"
     ]
    }
   ],
   "source": [
    "password= input(\"Enter the password:\")\n",
    "\n",
    "if (password == \"HOPE@123\"):\n",
    "    print(\"Your Password is correct\")\n",
    "else:\n",
    "    print (\"Your Password is wrong\")"
   ]
  },
  {
   "cell_type": "code",
   "execution_count": 11,
   "id": "19d88e67-c2da-49a0-a2b4-3a967a95d4cc",
   "metadata": {},
   "outputs": [
    {
     "name": "stdin",
     "output_type": "stream",
     "text": [
      "Enter your age: 20\n"
     ]
    }
   ],
   "source": [
    "age = int(input(\"Enter your age:\"))"
   ]
  },
  {
   "cell_type": "code",
   "execution_count": 13,
   "id": "9a3adedf-917c-4de9-9877-8d1ca8c22446",
   "metadata": {},
   "outputs": [
    {
     "name": "stdout",
     "output_type": "stream",
     "text": [
      "Adults\n"
     ]
    }
   ],
   "source": [
    "if (age<18):\n",
    "    print(\"Children\")\n",
    "elif (age<35):\n",
    "    print(\"Adults\")\n",
    "elif (age<59):\n",
    "    print(\"Citizen\")\n",
    "else:\n",
    "    print(\"Senior Citizen\")"
   ]
  },
  {
   "cell_type": "code",
   "execution_count": 17,
   "id": "1b71682c-5c42-4850-bed9-12fef868af59",
   "metadata": {},
   "outputs": [
    {
     "name": "stdin",
     "output_type": "stream",
     "text": [
      "Enter any number: 1\n"
     ]
    },
    {
     "name": "stdout",
     "output_type": "stream",
     "text": [
      "No is positive\n"
     ]
    }
   ],
   "source": [
    "num = int(input(\"Enter any number:\"))\n",
    "\n",
    "if (num>0):\n",
    "    print(\"No is positive\")\n",
    "else :\n",
    "    print (\"No is negative\")"
   ]
  },
  {
   "cell_type": "code",
   "execution_count": 25,
   "id": "0ed7d44d-1175-4e7b-9c20-fc1c699d69d0",
   "metadata": {},
   "outputs": [
    {
     "name": "stdin",
     "output_type": "stream",
     "text": [
      "Enter a number to check: 22\n"
     ]
    },
    {
     "name": "stdout",
     "output_type": "stream",
     "text": [
      "No is not divisible by 5\n"
     ]
    }
   ],
   "source": [
    "num1 = int(input(\"Enter a number to check:\"))\n",
    "\n",
    "if((num1 % 5) == 0):\n",
    "    print (\"No is divisible by 5\")\n",
    "else :\n",
    "    print (\"No is not divisible by 5\")"
   ]
  },
  {
   "cell_type": "code",
   "execution_count": null,
   "id": "f18612df-5127-4caf-8336-1a494ac9dcd1",
   "metadata": {},
   "outputs": [],
   "source": []
  }
 ],
 "metadata": {
  "kernelspec": {
   "display_name": "Python 3 (ipykernel)",
   "language": "python",
   "name": "python3"
  },
  "language_info": {
   "codemirror_mode": {
    "name": "ipython",
    "version": 3
   },
   "file_extension": ".py",
   "mimetype": "text/x-python",
   "name": "python",
   "nbconvert_exporter": "python",
   "pygments_lexer": "ipython3",
   "version": "3.12.4"
  }
 },
 "nbformat": 4,
 "nbformat_minor": 5
}
